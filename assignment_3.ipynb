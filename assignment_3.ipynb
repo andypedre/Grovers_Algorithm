{
 "cells": [
  {
   "cell_type": "raw",
   "id": "2ba858dc",
   "metadata": {},
   "source": [
    " ========================================================\n",
    " Name: __Andy Pedre_______________________\n",
    " Panther-ID: x x x -_1866_______ (Last 4 digits)\n",
    " Course: CIS 4930\n",
    " Assignment#: 3\n",
    " Due: Wed, Apr 19, 2023\n",
    " I hereby certify that this work is my own and none of\n",
    " it is the work of any other person.\n",
    " Signature: ____Andy Pedre__________________\n",
    " ========================================================="
   ]
  },
  {
   "cell_type": "markdown",
   "id": "5223980b",
   "metadata": {},
   "source": [
    "# Grover's Search Algorithm"
   ]
  },
  {
   "cell_type": "markdown",
   "id": "0a9999b3",
   "metadata": {},
   "source": [
    "### The target number to be searched is the sum of each digit if my ID: 6331866 module 15. Which is equals to 1\n",
    "### Hence the target is 1"
   ]
  },
  {
   "cell_type": "code",
   "execution_count": 1,
   "id": "ce8ed022",
   "metadata": {},
   "outputs": [],
   "source": [
    "from qiskit import*\n",
    "import matplotlib.pyplot as plt\n",
    "import numpy as np\n",
    "import pandas as pd\n",
    "from pandas import DataFrame\n",
    "import math\n",
    "\n",
    "pi = math.pi"
   ]
  },
  {
   "cell_type": "markdown",
   "id": "c1c19a63",
   "metadata": {},
   "source": [
    "#### Let's create a dataset respresenting the 16 possible states."
   ]
  },
  {
   "cell_type": "code",
   "execution_count": 2,
   "id": "a633aadc",
   "metadata": {},
   "outputs": [],
   "source": [
    "index = [0,1,2,3,4,5,6,7,8,9,10,11,12,13,14,15]\n",
    "states = [\"0000\", \"0001\", \"0010\", \"0011\", \"0100\", \"0101\", \"0110\", \"0111\",\n",
    "          \"1000\", \"1001\", \"1010\", \"1011\", \"1100\", \"1101\", \"1110\", \"1111\"]"
   ]
  },
  {
   "cell_type": "code",
   "execution_count": 3,
   "id": "5539037b",
   "metadata": {},
   "outputs": [
    {
     "data": {
      "text/html": [
       "<div>\n",
       "<style scoped>\n",
       "    .dataframe tbody tr th:only-of-type {\n",
       "        vertical-align: middle;\n",
       "    }\n",
       "\n",
       "    .dataframe tbody tr th {\n",
       "        vertical-align: top;\n",
       "    }\n",
       "\n",
       "    .dataframe thead th {\n",
       "        text-align: right;\n",
       "    }\n",
       "</style>\n",
       "<table border=\"1\" class=\"dataframe\">\n",
       "  <thead>\n",
       "    <tr style=\"text-align: right;\">\n",
       "      <th></th>\n",
       "      <th>states</th>\n",
       "    </tr>\n",
       "  </thead>\n",
       "  <tbody>\n",
       "    <tr>\n",
       "      <th>0</th>\n",
       "      <td>0000</td>\n",
       "    </tr>\n",
       "    <tr>\n",
       "      <th>1</th>\n",
       "      <td>0001</td>\n",
       "    </tr>\n",
       "    <tr>\n",
       "      <th>2</th>\n",
       "      <td>0010</td>\n",
       "    </tr>\n",
       "    <tr>\n",
       "      <th>3</th>\n",
       "      <td>0011</td>\n",
       "    </tr>\n",
       "    <tr>\n",
       "      <th>4</th>\n",
       "      <td>0100</td>\n",
       "    </tr>\n",
       "    <tr>\n",
       "      <th>5</th>\n",
       "      <td>0101</td>\n",
       "    </tr>\n",
       "    <tr>\n",
       "      <th>6</th>\n",
       "      <td>0110</td>\n",
       "    </tr>\n",
       "    <tr>\n",
       "      <th>7</th>\n",
       "      <td>0111</td>\n",
       "    </tr>\n",
       "    <tr>\n",
       "      <th>8</th>\n",
       "      <td>1000</td>\n",
       "    </tr>\n",
       "    <tr>\n",
       "      <th>9</th>\n",
       "      <td>1001</td>\n",
       "    </tr>\n",
       "    <tr>\n",
       "      <th>10</th>\n",
       "      <td>1010</td>\n",
       "    </tr>\n",
       "    <tr>\n",
       "      <th>11</th>\n",
       "      <td>1011</td>\n",
       "    </tr>\n",
       "    <tr>\n",
       "      <th>12</th>\n",
       "      <td>1100</td>\n",
       "    </tr>\n",
       "    <tr>\n",
       "      <th>13</th>\n",
       "      <td>1101</td>\n",
       "    </tr>\n",
       "    <tr>\n",
       "      <th>14</th>\n",
       "      <td>1110</td>\n",
       "    </tr>\n",
       "    <tr>\n",
       "      <th>15</th>\n",
       "      <td>1111</td>\n",
       "    </tr>\n",
       "  </tbody>\n",
       "</table>\n",
       "</div>"
      ],
      "text/plain": [
       "   states\n",
       "0    0000\n",
       "1    0001\n",
       "2    0010\n",
       "3    0011\n",
       "4    0100\n",
       "5    0101\n",
       "6    0110\n",
       "7    0111\n",
       "8    1000\n",
       "9    1001\n",
       "10   1010\n",
       "11   1011\n",
       "12   1100\n",
       "13   1101\n",
       "14   1110\n",
       "15   1111"
      ]
     },
     "execution_count": 3,
     "metadata": {},
     "output_type": "execute_result"
    }
   ],
   "source": [
    "numbers = DataFrame({'states': states}, index= index)\n",
    "numbers"
   ]
  },
  {
   "cell_type": "code",
   "execution_count": 4,
   "id": "d1ba6651",
   "metadata": {},
   "outputs": [
    {
     "name": "stdout",
     "output_type": "stream",
     "text": [
      "State to search:  0001\n"
     ]
    }
   ],
   "source": [
    "#We are looking for this state\n",
    "print(\"State to search: \", states[index[1]])"
   ]
  },
  {
   "cell_type": "code",
   "execution_count": 5,
   "id": "2950b535",
   "metadata": {},
   "outputs": [
    {
     "data": {
      "text/html": [
       "<pre style=\"word-wrap: normal;white-space: pre;background: #fff0;line-height: 1.1;font-family: &quot;Courier New&quot;,Courier,monospace\">     ┌───┐\n",
       "q_0: ┤ H ├\n",
       "     ├───┤\n",
       "q_1: ┤ H ├\n",
       "     ├───┤\n",
       "q_2: ┤ H ├\n",
       "     ├───┤\n",
       "q_3: ┤ H ├\n",
       "     └───┘</pre>"
      ],
      "text/plain": [
       "     ┌───┐\n",
       "q_0: ┤ H ├\n",
       "     ├───┤\n",
       "q_1: ┤ H ├\n",
       "     ├───┤\n",
       "q_2: ┤ H ├\n",
       "     ├───┤\n",
       "q_3: ┤ H ├\n",
       "     └───┘"
      ]
     },
     "execution_count": 5,
     "metadata": {},
     "output_type": "execute_result"
    }
   ],
   "source": [
    "oracle = QuantumCircuit(4, name = 'oracle')\n",
    "#Appling Haramand gate to all bits to set supperposition\n",
    "oracle.h(0)\n",
    "oracle.h(1)\n",
    "oracle.h(2)\n",
    "oracle.h(3)\n",
    "oracle.to_gate()\n",
    "oracle.draw()"
   ]
  },
  {
   "cell_type": "markdown",
   "id": "d8a8e9c5",
   "metadata": {},
   "source": [
    "##### A triple Controlled Z gate is needed to implement the Grover's algorithm\n",
    "##### The Pauli-Z gate is a single-qubit rotation through π radians around the z-axis"
   ]
  },
  {
   "cell_type": "code",
   "execution_count": 6,
   "id": "716076cf",
   "metadata": {},
   "outputs": [
    {
     "data": {
      "text/html": [
       "<pre style=\"word-wrap: normal;white-space: pre;background: #fff0;line-height: 1.1;font-family: &quot;Courier New&quot;,Courier,monospace\">     ┌───┐                                                                  »\n",
       "q_0: ┤ H ├──────────■───────■────────────────■──────────────────────────────»\n",
       "     ├───┤┌───┐     │     ┌─┴─┐            ┌─┴─┐                            »\n",
       "q_1: ┤ H ├┤ X ├─────┼─────┤ X ├─────■──────┤ X ├─────■───────■──────────────»\n",
       "     ├───┤├───┤     │     └───┘     │      └───┘     │     ┌─┴─┐            »\n",
       "q_2: ┤ H ├┤ X ├─────┼───────────────┼────────────────┼─────┤ X ├─────■──────»\n",
       "     ├───┤├───┤┌────┴────┐     ┌────┴─────┐     ┌────┴────┐└───┘┌────┴─────┐»\n",
       "q_3: ┤ H ├┤ X ├┤ Rz(π/4) ├─────┤ Rz(-π/4) ├─────┤ Rz(π/4) ├─────┤ Rz(-π/4) ├»\n",
       "     └───┘└───┘└─────────┘     └──────────┘     └─────────┘     └──────────┘»\n",
       "«                                                           \n",
       "«q_0: ──■────────────────────────────────■──────────────────\n",
       "«       │                     ┌───┐      │                  \n",
       "«q_1: ──┼───────────────■─────┤ X ├──────┼──────────────────\n",
       "«     ┌─┴─┐           ┌─┴─┐   └───┘    ┌─┴─┐           ┌───┐\n",
       "«q_2: ┤ X ├─────■─────┤ X ├─────■──────┤ X ├─────■─────┤ X ├\n",
       "«     └───┘┌────┴────┐└───┘┌────┴─────┐└───┘┌────┴────┐├───┤\n",
       "«q_3: ─────┤ Rz(π/4) ├─────┤ Rz(-π/4) ├─────┤ Rz(π/4) ├┤ X ├\n",
       "«          └─────────┘     └──────────┘     └─────────┘└───┘</pre>"
      ],
      "text/plain": [
       "     ┌───┐                                                                  »\n",
       "q_0: ┤ H ├──────────■───────■────────────────■──────────────────────────────»\n",
       "     ├───┤┌───┐     │     ┌─┴─┐            ┌─┴─┐                            »\n",
       "q_1: ┤ H ├┤ X ├─────┼─────┤ X ├─────■──────┤ X ├─────■───────■──────────────»\n",
       "     ├───┤├───┤     │     └───┘     │      └───┘     │     ┌─┴─┐            »\n",
       "q_2: ┤ H ├┤ X ├─────┼───────────────┼────────────────┼─────┤ X ├─────■──────»\n",
       "     ├───┤├───┤┌────┴────┐     ┌────┴─────┐     ┌────┴────┐└───┘┌────┴─────┐»\n",
       "q_3: ┤ H ├┤ X ├┤ Rz(π/4) ├─────┤ Rz(-π/4) ├─────┤ Rz(π/4) ├─────┤ Rz(-π/4) ├»\n",
       "     └───┘└───┘└─────────┘     └──────────┘     └─────────┘     └──────────┘»\n",
       "«                                                           \n",
       "«q_0: ──■────────────────────────────────■──────────────────\n",
       "«       │                     ┌───┐      │                  \n",
       "«q_1: ──┼───────────────■─────┤ X ├──────┼──────────────────\n",
       "«     ┌─┴─┐           ┌─┴─┐   └───┘    ┌─┴─┐           ┌───┐\n",
       "«q_2: ┤ X ├─────■─────┤ X ├─────■──────┤ X ├─────■─────┤ X ├\n",
       "«     └───┘┌────┴────┐└───┘┌────┴─────┐└───┘┌────┴────┐├───┤\n",
       "«q_3: ─────┤ Rz(π/4) ├─────┤ Rz(-π/4) ├─────┤ Rz(π/4) ├┤ X ├\n",
       "«          └─────────┘     └──────────┘     └─────────┘└───┘"
      ]
     },
     "execution_count": 6,
     "metadata": {},
     "output_type": "execute_result"
    }
   ],
   "source": [
    "#Buildign the oracle\n",
    "#I will applay NOT gates to the 2nd, 3rd and 4th quibits\n",
    "oracle.x(1)\n",
    "oracle.x(2)\n",
    "oracle.x(3)\n",
    "\n",
    "#Applying a triple Pauli Z gate using CRZ gates\n",
    "oracle.crz(pi / 4, [0], [3])\n",
    "oracle.cx([0], [1])\n",
    "oracle.crz(-pi/4, [1], [3])\n",
    "oracle.cx([0], [1])\n",
    "oracle.crz(pi/4, [1], [3])\n",
    "oracle.cx([1], [2])\n",
    "oracle.crz(-pi/4, [2], [3])\n",
    "oracle.cx([0], [2])\n",
    "oracle.crz(pi/4, [2], [3])\n",
    "oracle.cx([1], [2])\n",
    "oracle.crz(-pi/4, [2], [3])\n",
    "oracle.cx([0], [2])\n",
    "oracle.crz(pi/4, [2], [3])\n",
    "\n",
    "#I will applay NOT gates to the 2nd, 3rd and 4th quibits\n",
    "oracle.x(1)\n",
    "oracle.x(2)\n",
    "oracle.x(3)\n",
    "\n",
    "oracle.to_gate()\n",
    "oracle.draw()"
   ]
  },
  {
   "cell_type": "code",
   "execution_count": 7,
   "id": "eaac8409",
   "metadata": {},
   "outputs": [
    {
     "data": {
      "text/html": [
       "<pre style=\"word-wrap: normal;white-space: pre;background: #fff0;line-height: 1.1;font-family: &quot;Courier New&quot;,Courier,monospace\">     ┌─────────┐\n",
       "q_0: ┤0        ├\n",
       "     │         │\n",
       "q_1: ┤1        ├\n",
       "     │  oracle │\n",
       "q_2: ┤2        ├\n",
       "     │         │\n",
       "q_3: ┤3        ├\n",
       "     └─────────┘\n",
       "c: 4/═══════════\n",
       "                </pre>"
      ],
      "text/plain": [
       "     ┌─────────┐\n",
       "q_0: ┤0        ├\n",
       "     │         │\n",
       "q_1: ┤1        ├\n",
       "     │  oracle │\n",
       "q_2: ┤2        ├\n",
       "     │         │\n",
       "q_3: ┤3        ├\n",
       "     └─────────┘\n",
       "c: 4/═══════════\n",
       "                "
      ]
     },
     "execution_count": 7,
     "metadata": {},
     "output_type": "execute_result"
    }
   ],
   "source": [
    "backend = Aer.get_backend('statevector_simulator')\n",
    "grover_circ = QuantumCircuit(4,4)\n",
    "grover_circ.append(oracle, [0,1,2,3])\n",
    "grover_circ.draw()"
   ]
  },
  {
   "cell_type": "code",
   "execution_count": 8,
   "id": "2b7e940a",
   "metadata": {},
   "outputs": [],
   "source": [
    "job = execute(grover_circ , backend)\n",
    "result = job.result()"
   ]
  },
  {
   "cell_type": "code",
   "execution_count": 9,
   "id": "3748028b",
   "metadata": {},
   "outputs": [
    {
     "data": {
      "text/plain": [
       "array([ 0.25-0.j  ,  0.  +0.25j,  0.25-0.j  ,  0.25-0.j  ,  0.25-0.j  ,\n",
       "        0.25-0.j  ,  0.25-0.j  ,  0.25-0.j  ,  0.25-0.j  , -0.  -0.25j,\n",
       "        0.25-0.j  ,  0.25-0.j  ,  0.25-0.j  ,  0.25-0.j  ,  0.25-0.j  ,\n",
       "        0.25-0.j  ])"
      ]
     },
     "execution_count": 9,
     "metadata": {},
     "output_type": "execute_result"
    }
   ],
   "source": [
    "sv = result.get_statevector()\n",
    "np.around(sv , 4)"
   ]
  },
  {
   "cell_type": "code",
   "execution_count": 10,
   "id": "f85e97fe",
   "metadata": {},
   "outputs": [
    {
     "data": {
      "text/plain": [
       "Instruction(name='reflection', num_qubits=4, num_clbits=0, params=[])"
      ]
     },
     "execution_count": 10,
     "metadata": {},
     "output_type": "execute_result"
    }
   ],
   "source": [
    "reflection = QuantumCircuit(4, name = 'reflection')\n",
    "#Appling Haramand gate to every quibit\n",
    "reflection.h(0)\n",
    "reflection.h(1)\n",
    "reflection.h(2)\n",
    "reflection.h(3)\n",
    "\n",
    "#Applaing NOT gate to all quibits\n",
    "reflection.x(0)\n",
    "reflection.x(1)\n",
    "reflection.x(2)\n",
    "reflection.x(3)\n",
    "\n",
    "#Making the CCCZ gate with Pauli gates\n",
    "reflection.crz(pi / 4, [0], [3])\n",
    "reflection.cx([0], [1])\n",
    "reflection.crz(-pi/4, [1], [3])\n",
    "reflection.cx([0], [1])\n",
    "reflection.crz(pi/4, [1], [3])\n",
    "reflection.cx([1], [2])\n",
    "reflection.crz(-pi/4, [2], [3])\n",
    "reflection.cx([0], [2])\n",
    "reflection.crz(pi/4, [2], [3])\n",
    "reflection.cx([1], [2])\n",
    "reflection.crz(-pi/4, [2], [3])\n",
    "reflection.cx([0], [2])\n",
    "reflection.crz(pi/4, [2], [3])\n",
    "\n",
    "#Appling NOT gates to all\n",
    "reflection.x(0)\n",
    "reflection.x(1)\n",
    "reflection.x(2)\n",
    "reflection.x(3)\n",
    "\n",
    "#Appling Haramand gate to all\n",
    "reflection.h(0)\n",
    "reflection.h(1)\n",
    "reflection.h(2)\n",
    "reflection.h(3)\n",
    "\n",
    "reflection.to_gate()"
   ]
  },
  {
   "cell_type": "code",
   "execution_count": 11,
   "id": "7bac06a2",
   "metadata": {},
   "outputs": [
    {
     "data": {
      "text/html": [
       "<pre style=\"word-wrap: normal;white-space: pre;background: #fff0;line-height: 1.1;font-family: &quot;Courier New&quot;,Courier,monospace\">     ┌───┐┌───┐                                                             »\n",
       "q_0: ┤ H ├┤ X ├─────■───────■────────────────■──────────────────────────────»\n",
       "     ├───┤├───┤     │     ┌─┴─┐            ┌─┴─┐                            »\n",
       "q_1: ┤ H ├┤ X ├─────┼─────┤ X ├─────■──────┤ X ├─────■───────■──────────────»\n",
       "     ├───┤├───┤     │     └───┘     │      └───┘     │     ┌─┴─┐            »\n",
       "q_2: ┤ H ├┤ X ├─────┼───────────────┼────────────────┼─────┤ X ├─────■──────»\n",
       "     ├───┤├───┤┌────┴────┐     ┌────┴─────┐     ┌────┴────┐└───┘┌────┴─────┐»\n",
       "q_3: ┤ H ├┤ X ├┤ Rz(π/4) ├─────┤ Rz(-π/4) ├─────┤ Rz(π/4) ├─────┤ Rz(-π/4) ├»\n",
       "     └───┘└───┘└─────────┘     └──────────┘     └─────────┘     └──────────┘»\n",
       "«                                              ┌───┐   ┌───┐     \n",
       "«q_0: ──■────────────────────────────────■─────┤ X ├───┤ H ├─────\n",
       "«       │                     ┌───┐      │     ├───┤   └───┘     \n",
       "«q_1: ──┼───────────────■─────┤ X ├──────┼─────┤ H ├─────────────\n",
       "«     ┌─┴─┐           ┌─┴─┐   └───┘    ┌─┴─┐   └───┘   ┌───┐┌───┐\n",
       "«q_2: ┤ X ├─────■─────┤ X ├─────■──────┤ X ├─────■─────┤ X ├┤ H ├\n",
       "«     └───┘┌────┴────┐└───┘┌────┴─────┐└───┘┌────┴────┐├───┤├───┤\n",
       "«q_3: ─────┤ Rz(π/4) ├─────┤ Rz(-π/4) ├─────┤ Rz(π/4) ├┤ X ├┤ H ├\n",
       "«          └─────────┘     └──────────┘     └─────────┘└───┘└───┘</pre>"
      ],
      "text/plain": [
       "     ┌───┐┌───┐                                                             »\n",
       "q_0: ┤ H ├┤ X ├─────■───────■────────────────■──────────────────────────────»\n",
       "     ├───┤├───┤     │     ┌─┴─┐            ┌─┴─┐                            »\n",
       "q_1: ┤ H ├┤ X ├─────┼─────┤ X ├─────■──────┤ X ├─────■───────■──────────────»\n",
       "     ├───┤├───┤     │     └───┘     │      └───┘     │     ┌─┴─┐            »\n",
       "q_2: ┤ H ├┤ X ├─────┼───────────────┼────────────────┼─────┤ X ├─────■──────»\n",
       "     ├───┤├───┤┌────┴────┐     ┌────┴─────┐     ┌────┴────┐└───┘┌────┴─────┐»\n",
       "q_3: ┤ H ├┤ X ├┤ Rz(π/4) ├─────┤ Rz(-π/4) ├─────┤ Rz(π/4) ├─────┤ Rz(-π/4) ├»\n",
       "     └───┘└───┘└─────────┘     └──────────┘     └─────────┘     └──────────┘»\n",
       "«                                              ┌───┐   ┌───┐     \n",
       "«q_0: ──■────────────────────────────────■─────┤ X ├───┤ H ├─────\n",
       "«       │                     ┌───┐      │     ├───┤   └───┘     \n",
       "«q_1: ──┼───────────────■─────┤ X ├──────┼─────┤ H ├─────────────\n",
       "«     ┌─┴─┐           ┌─┴─┐   └───┘    ┌─┴─┐   └───┘   ┌───┐┌───┐\n",
       "«q_2: ┤ X ├─────■─────┤ X ├─────■──────┤ X ├─────■─────┤ X ├┤ H ├\n",
       "«     └───┘┌────┴────┐└───┘┌────┴─────┐└───┘┌────┴────┐├───┤├───┤\n",
       "«q_3: ─────┤ Rz(π/4) ├─────┤ Rz(-π/4) ├─────┤ Rz(π/4) ├┤ X ├┤ H ├\n",
       "«          └─────────┘     └──────────┘     └─────────┘└───┘└───┘"
      ]
     },
     "execution_count": 11,
     "metadata": {},
     "output_type": "execute_result"
    }
   ],
   "source": [
    "reflection.draw()"
   ]
  },
  {
   "cell_type": "code",
   "execution_count": 12,
   "id": "c9ae0d2f",
   "metadata": {},
   "outputs": [
    {
     "data": {
      "text/plain": [
       "<qiskit.circuit.instructionset.InstructionSet at 0x1f2899e1f70>"
      ]
     },
     "execution_count": 12,
     "metadata": {},
     "output_type": "execute_result"
    }
   ],
   "source": [
    "backend = Aer.get_backend('qasm_simulator')\n",
    "grover_circ = QuantumCircuit(4,4)\n",
    "grover_circ.append(oracle, [0,1,2,3])\n",
    "grover_circ.append(reflection, [0,1,2,3])\n",
    "grover_circ.measure([0,1,2,3], [0,1,2,3])"
   ]
  },
  {
   "cell_type": "code",
   "execution_count": 13,
   "id": "3f0c8aac",
   "metadata": {},
   "outputs": [
    {
     "data": {
      "text/html": [
       "<pre style=\"word-wrap: normal;white-space: pre;background: #fff0;line-height: 1.1;font-family: &quot;Courier New&quot;,Courier,monospace\">     ┌─────────┐┌─────────────┐┌─┐         \n",
       "q_0: ┤0        ├┤0            ├┤M├─────────\n",
       "     │         ││             │└╥┘┌─┐      \n",
       "q_1: ┤1        ├┤1            ├─╫─┤M├──────\n",
       "     │  oracle ││  reflection │ ║ └╥┘┌─┐   \n",
       "q_2: ┤2        ├┤2            ├─╫──╫─┤M├───\n",
       "     │         ││             │ ║  ║ └╥┘┌─┐\n",
       "q_3: ┤3        ├┤3            ├─╫──╫──╫─┤M├\n",
       "     └─────────┘└─────────────┘ ║  ║  ║ └╥┘\n",
       "c: 4/═══════════════════════════╩══╩══╩══╩═\n",
       "                                0  1  2  3 </pre>"
      ],
      "text/plain": [
       "     ┌─────────┐┌─────────────┐┌─┐         \n",
       "q_0: ┤0        ├┤0            ├┤M├─────────\n",
       "     │         ││             │└╥┘┌─┐      \n",
       "q_1: ┤1        ├┤1            ├─╫─┤M├──────\n",
       "     │  oracle ││  reflection │ ║ └╥┘┌─┐   \n",
       "q_2: ┤2        ├┤2            ├─╫──╫─┤M├───\n",
       "     │         ││             │ ║  ║ └╥┘┌─┐\n",
       "q_3: ┤3        ├┤3            ├─╫──╫──╫─┤M├\n",
       "     └─────────┘└─────────────┘ ║  ║  ║ └╥┘\n",
       "c: 4/═══════════════════════════╩══╩══╩══╩═\n",
       "                                0  1  2  3 "
      ]
     },
     "execution_count": 13,
     "metadata": {},
     "output_type": "execute_result"
    }
   ],
   "source": [
    "grover_circ.draw()"
   ]
  },
  {
   "cell_type": "code",
   "execution_count": 14,
   "id": "3684f889",
   "metadata": {},
   "outputs": [
    {
     "data": {
      "text/plain": [
       "{'0001': 224,\n",
       " '1010': 60,\n",
       " '0011': 41,\n",
       " '1000': 69,\n",
       " '1101': 64,\n",
       " '0100': 55,\n",
       " '0110': 40,\n",
       " '1110': 58,\n",
       " '0000': 32,\n",
       " '0101': 48,\n",
       " '1001': 54,\n",
       " '1111': 52,\n",
       " '0111': 39,\n",
       " '1100': 63,\n",
       " '1011': 63,\n",
       " '0010': 38}"
      ]
     },
     "execution_count": 14,
     "metadata": {},
     "output_type": "execute_result"
    }
   ],
   "source": [
    "job = execute(grover_circ, backend, shots = 1000)\n",
    "result = job.result()\n",
    "f_result = result.get_counts()\n",
    "f_result"
   ]
  },
  {
   "cell_type": "markdown",
   "id": "2107aab8",
   "metadata": {},
   "source": [
    "### We see that the '0001' state gets the highest probability"
   ]
  },
  {
   "cell_type": "code",
   "execution_count": 15,
   "id": "06c5bb18",
   "metadata": {
    "scrolled": true
   },
   "outputs": [
    {
     "data": {
      "image/png": "[encoded data removed]",
      "text/plain": [
       "<Figure size 432x288 with 1 Axes>"
      ]
     },
     "metadata": {
      "needs_background": "light"
     },
     "output_type": "display_data"
    }
   ],
   "source": [
    "states = list(f_result.keys())\n",
    "values = list(f_result.values())\n",
    "# create a horizontal bar chart\n",
    "plt.barh(states, values)\n",
    "\n",
    "# add labels to the x and y axis and give a title to the chart\n",
    "plt.xlabel('Frequency')\n",
    "plt.ylabel('Sates')\n",
    "plt.title('Frequency of states')\n",
    "\n",
    "# show the chart\n",
    "plt.show()"
   ]
  },
  {
   "cell_type": "code",
   "execution_count": null,
   "id": "781330c9",
   "metadata": {},
   "outputs": [],
   "source": []
  }
 ],
 "metadata": {
  "kernelspec": {
   "display_name": "Python 3 (ipykernel)",
   "language": "python",
   "name": "python3"
  },
  "language_info": {
   "codemirror_mode": {
    "name": "ipython",
    "version": 3
   },
   "file_extension": ".py",
   "mimetype": "text/x-python",
   "name": "python",
   "nbconvert_exporter": "python",
   "pygments_lexer": "ipython3",
   "version": "3.9.12"
  }
 },
 "nbformat": 4,
 "nbformat_minor": 5
}
